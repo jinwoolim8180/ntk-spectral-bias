{
 "cells": [
  {
   "cell_type": "code",
   "execution_count": 9,
   "id": "86bfb943",
   "metadata": {},
   "outputs": [],
   "source": [
    "import torch\n",
    "import torchvision.datasets as datasets\n",
    "import torchvision.transforms as transforms\n",
    "from torch.utils.data import DataLoader\n",
    "import numpy as np\n",
    "import matplotlib.pyplot as plt\n",
    "\n",
    "# hack to import files from parent directory\n",
    "import os\n",
    "import sys\n",
    "upper_dir = os.path.abspath(os.path.join('..'))\n",
    "if upper_dir not in sys.path:\n",
    "    sys.path.append(upper_dir)\n",
    "    \n",
    "\n",
    "# packages existing in parent directory\n",
    "from LeNet.lenet import LeNet5\n",
    "import hercules.ntk_utils as ntk_utils\n",
    "\n"
   ]
  },
  {
   "cell_type": "code",
   "execution_count": 10,
   "id": "2ae598b4",
   "metadata": {},
   "outputs": [
    {
     "name": "stdout",
     "output_type": "stream",
     "text": [
      "saving model checkpoint\n",
      "saving model checkpoint\n",
      "saving model checkpoint\n",
      "saving model checkpoint\n",
      "saving model checkpoint\n",
      "saving model checkpoint\n",
      "saving model checkpoint\n",
      "saving model checkpoint\n",
      "saving model checkpoint\n",
      "saving model checkpoint\n"
     ]
    }
   ],
   "source": [
    "# Create and save 'num_runs' randomly initialized parameters\n",
    "num_runs = 10\n",
    "checkpoint_dir = '../checkpoints/run1'\n",
    "\n",
    "for i in range(num_runs):\n",
    "    net = LeNet5(c=3)\n",
    "    print('saving model checkpoint')\n",
    "    torch.save(net, '{}/init{}.p'.format(checkpoint_dir, i))"
   ]
  },
  {
   "cell_type": "code",
   "execution_count": 11,
   "id": "be4754e5",
   "metadata": {},
   "outputs": [
    {
     "name": "stdout",
     "output_type": "stream",
     "text": [
      "Files already downloaded and verified\n"
     ]
    }
   ],
   "source": [
    "# Import the MNIST dataset and prepare dataloader\n",
    "batch_size= 5000\n",
    "\n",
    "data_train = datasets.CIFAR10('../data/cifar',\n",
    "                  train=True,\n",
    "                  download=True,\n",
    "                  transform=transforms.Compose([\n",
    "                      transforms.Resize((32, 32)),\n",
    "                      transforms.ToTensor()]))\n",
    "\n",
    "per_grad_train_loader = DataLoader(data_train, batch_size=batch_size, shuffle=True, num_workers=2)\n",
    "slow_loader = DataLoader(data_train, batch_size=1, shuffle=False)"
   ]
  },
  {
   "cell_type": "code",
   "execution_count": 12,
   "id": "465cdc58",
   "metadata": {},
   "outputs": [],
   "source": [
    "import torch.nn as nn\n",
    "\n",
    "class Linear(nn.Module):\n",
    "    def __init__(self, dim, c):\n",
    "        super(Linear, self).__init__()\n",
    "        self.layer = nn.Linear(dim, c)\n",
    "\n",
    "    def forward(self, x):\n",
    "        return self.layer(x)"
   ]
  },
  {
   "cell_type": "code",
   "execution_count": 13,
   "id": "afa86d72",
   "metadata": {},
   "outputs": [
    {
     "name": "stderr",
     "output_type": "stream",
     "text": [
      "Epoch 0: :   0%|          | 0/10 [00:00<?, ?it/s]"
     ]
    },
    {
     "name": "stderr",
     "output_type": "stream",
     "text": [
      "Epoch 0: : 100%|██████████| 10/10 [00:02<00:00,  4.19it/s, acc=18.1, loss=2.22]\n",
      "Epoch 1: : 100%|██████████| 10/10 [00:02<00:00,  4.18it/s, acc=29, loss=2.03] \n",
      "Epoch 2: : 100%|██████████| 10/10 [00:02<00:00,  4.20it/s, acc=32.4, loss=1.95]\n",
      "Epoch 3: : 100%|██████████| 10/10 [00:02<00:00,  4.21it/s, acc=34.2, loss=1.9]\n",
      "Epoch 4: : 100%|██████████| 10/10 [00:02<00:00,  4.15it/s, acc=35.2, loss=1.88]\n",
      "Epoch 5: : 100%|██████████| 10/10 [00:02<00:00,  4.26it/s, acc=36, loss=1.86] \n",
      "Epoch 6: : 100%|██████████| 10/10 [00:02<00:00,  4.23it/s, acc=36.6, loss=1.84]\n",
      "Epoch 7: : 100%|██████████| 10/10 [00:02<00:00,  4.24it/s, acc=37, loss=1.83] \n",
      "Epoch 8: : 100%|██████████| 10/10 [00:02<00:00,  4.14it/s, acc=37.6, loss=1.82]\n",
      "Epoch 9: : 100%|██████████| 10/10 [00:02<00:00,  4.20it/s, acc=37.8, loss=1.82]\n",
      "Epoch 10: : 100%|██████████| 10/10 [00:02<00:00,  4.14it/s, acc=37.8, loss=1.81]\n",
      "Epoch 11: : 100%|██████████| 10/10 [00:02<00:00,  4.18it/s, acc=38.1, loss=1.8]\n",
      "Epoch 12: : 100%|██████████| 10/10 [00:02<00:00,  4.18it/s, acc=38.3, loss=1.8]\n",
      "Epoch 13: : 100%|██████████| 10/10 [00:02<00:00,  4.25it/s, acc=38.5, loss=1.79]\n",
      "Epoch 14: : 100%|██████████| 10/10 [00:02<00:00,  4.22it/s, acc=38.6, loss=1.79]\n",
      "Epoch 15: : 100%|██████████| 10/10 [00:02<00:00,  4.19it/s, acc=38.7, loss=1.79]\n",
      "Epoch 16: : 100%|██████████| 10/10 [00:02<00:00,  4.22it/s, acc=39, loss=1.78] \n",
      "Epoch 17: : 100%|██████████| 10/10 [00:02<00:00,  4.17it/s, acc=39, loss=1.78] \n",
      "Epoch 18: : 100%|██████████| 10/10 [00:02<00:00,  4.20it/s, acc=39.3, loss=1.77]\n",
      "Epoch 19: : 100%|██████████| 10/10 [00:02<00:00,  4.17it/s, acc=39.4, loss=1.77]\n",
      "Epoch 20: : 100%|██████████| 10/10 [00:02<00:00,  4.20it/s, acc=39.5, loss=1.77]\n",
      "Epoch 21: : 100%|██████████| 10/10 [00:02<00:00,  4.22it/s, acc=39.6, loss=1.77]\n",
      "Epoch 22: : 100%|██████████| 10/10 [00:02<00:00,  4.18it/s, acc=39.6, loss=1.76]\n",
      "Epoch 23: : 100%|██████████| 10/10 [00:02<00:00,  4.18it/s, acc=39.7, loss=1.76]\n",
      "Epoch 24: : 100%|██████████| 10/10 [00:02<00:00,  4.19it/s, acc=39.7, loss=1.76]\n",
      "Epoch 25: : 100%|██████████| 10/10 [00:02<00:00,  4.27it/s, acc=39.8, loss=1.76]\n",
      "Epoch 26: : 100%|██████████| 10/10 [00:02<00:00,  4.02it/s, acc=39.9, loss=1.76]\n",
      "Epoch 27: : 100%|██████████| 10/10 [00:02<00:00,  4.21it/s, acc=40, loss=1.75] \n",
      "Epoch 28: : 100%|██████████| 10/10 [00:02<00:00,  4.20it/s, acc=40.2, loss=1.75]\n",
      "Epoch 29: : 100%|██████████| 10/10 [00:02<00:00,  4.02it/s, acc=40.1, loss=1.75]\n",
      "Epoch 30: : 100%|██████████| 10/10 [00:02<00:00,  4.19it/s, acc=40.3, loss=1.75]\n",
      "Epoch 31: : 100%|██████████| 10/10 [00:02<00:00,  4.02it/s, acc=40.2, loss=1.75]\n",
      "Epoch 32: : 100%|██████████| 10/10 [00:02<00:00,  4.17it/s, acc=40.3, loss=1.75]\n",
      "Epoch 33: : 100%|██████████| 10/10 [00:02<00:00,  4.14it/s, acc=40.6, loss=1.74]\n",
      "Epoch 34: : 100%|██████████| 10/10 [00:02<00:00,  4.22it/s, acc=40.5, loss=1.74]\n",
      "Epoch 35: : 100%|██████████| 10/10 [00:02<00:00,  4.23it/s, acc=40.5, loss=1.74]\n",
      "Epoch 36: : 100%|██████████| 10/10 [00:02<00:00,  4.20it/s, acc=40.5, loss=1.74]\n",
      "Epoch 37: : 100%|██████████| 10/10 [00:02<00:00,  4.20it/s, acc=40.5, loss=1.74]\n",
      "Epoch 38: : 100%|██████████| 10/10 [00:02<00:00,  4.24it/s, acc=40.8, loss=1.74]\n",
      "Epoch 39: : 100%|██████████| 10/10 [00:02<00:00,  4.25it/s, acc=40.8, loss=1.74]\n",
      "Epoch 40: : 100%|██████████| 10/10 [00:02<00:00,  4.19it/s, acc=41, loss=1.73] \n",
      "Epoch 41: : 100%|██████████| 10/10 [00:02<00:00,  4.18it/s, acc=40.9, loss=1.73]\n",
      "Epoch 42: : 100%|██████████| 10/10 [00:02<00:00,  4.19it/s, acc=41, loss=1.73] \n",
      "Epoch 43: : 100%|██████████| 10/10 [00:02<00:00,  4.17it/s, acc=41.1, loss=1.73]\n",
      "Epoch 44: : 100%|██████████| 10/10 [00:02<00:00,  4.22it/s, acc=41, loss=1.73] \n",
      "Epoch 45: : 100%|██████████| 10/10 [00:02<00:00,  4.22it/s, acc=41, loss=1.73] \n",
      "Epoch 46: : 100%|██████████| 10/10 [00:02<00:00,  4.24it/s, acc=40.9, loss=1.73]\n",
      "Epoch 47: : 100%|██████████| 10/10 [00:02<00:00,  4.22it/s, acc=41, loss=1.73] \n",
      "Epoch 48: : 100%|██████████| 10/10 [00:02<00:00,  4.23it/s, acc=41.1, loss=1.73]\n",
      "Epoch 49: : 100%|██████████| 10/10 [00:02<00:00,  4.19it/s, acc=41.2, loss=1.73]\n",
      "Epoch 50: : 100%|██████████| 10/10 [00:02<00:00,  4.14it/s, acc=41.1, loss=1.73]\n",
      "Epoch 51: : 100%|██████████| 10/10 [00:02<00:00,  4.19it/s, acc=41.3, loss=1.72]\n",
      "Epoch 52: : 100%|██████████| 10/10 [00:02<00:00,  4.23it/s, acc=41.3, loss=1.72]\n",
      "Epoch 53: : 100%|██████████| 10/10 [00:02<00:00,  4.19it/s, acc=41.3, loss=1.72]\n",
      "Epoch 54: : 100%|██████████| 10/10 [00:02<00:00,  4.18it/s, acc=41.3, loss=1.72]\n",
      "Epoch 55: : 100%|██████████| 10/10 [00:02<00:00,  4.15it/s, acc=41.4, loss=1.72]\n",
      "Epoch 56: : 100%|██████████| 10/10 [00:02<00:00,  4.19it/s, acc=41.5, loss=1.72]\n",
      "Epoch 57: : 100%|██████████| 10/10 [00:02<00:00,  4.17it/s, acc=41.4, loss=1.72]\n",
      "Epoch 58: : 100%|██████████| 10/10 [00:02<00:00,  4.24it/s, acc=41.5, loss=1.72]\n",
      "Epoch 59: : 100%|██████████| 10/10 [00:02<00:00,  4.16it/s, acc=41.5, loss=1.72]\n",
      "Epoch 60: : 100%|██████████| 10/10 [00:02<00:00,  4.09it/s, acc=41.2, loss=1.72]\n",
      "Epoch 61: : 100%|██████████| 10/10 [00:02<00:00,  4.18it/s, acc=41.5, loss=1.72]\n",
      "Epoch 62: : 100%|██████████| 10/10 [00:02<00:00,  4.19it/s, acc=41.5, loss=1.72]\n",
      "Epoch 63: : 100%|██████████| 10/10 [00:02<00:00,  4.20it/s, acc=41.6, loss=1.71]\n",
      "Epoch 64: : 100%|██████████| 10/10 [00:02<00:00,  4.22it/s, acc=41.7, loss=1.71]\n",
      "Epoch 65: : 100%|██████████| 10/10 [00:02<00:00,  4.21it/s, acc=41.8, loss=1.71]\n",
      "Epoch 66: : 100%|██████████| 10/10 [00:02<00:00,  4.23it/s, acc=41.5, loss=1.71]\n",
      "Epoch 67: : 100%|██████████| 10/10 [00:02<00:00,  4.25it/s, acc=41.6, loss=1.71]\n",
      "Epoch 68: : 100%|██████████| 10/10 [00:02<00:00,  4.14it/s, acc=41.7, loss=1.71]\n",
      "Epoch 69: : 100%|██████████| 10/10 [00:02<00:00,  4.15it/s, acc=41.8, loss=1.71]\n",
      "Epoch 70: : 100%|██████████| 10/10 [00:02<00:00,  4.27it/s, acc=41.8, loss=1.71]\n",
      "Epoch 71: : 100%|██████████| 10/10 [00:02<00:00,  4.14it/s, acc=41.9, loss=1.71]\n",
      "Epoch 72: : 100%|██████████| 10/10 [00:02<00:00,  4.22it/s, acc=41.9, loss=1.71]\n",
      "Epoch 73: : 100%|██████████| 10/10 [00:02<00:00,  4.28it/s, acc=41.8, loss=1.71]\n",
      "Epoch 74: : 100%|██████████| 10/10 [00:02<00:00,  4.18it/s, acc=41.7, loss=1.71]\n",
      "Epoch 75: : 100%|██████████| 10/10 [00:02<00:00,  4.19it/s, acc=41.8, loss=1.71]\n",
      "Epoch 76: : 100%|██████████| 10/10 [00:02<00:00,  4.23it/s, acc=42.1, loss=1.71]\n",
      "Epoch 77: : 100%|██████████| 10/10 [00:02<00:00,  4.19it/s, acc=41.9, loss=1.71]\n",
      "Epoch 78: : 100%|██████████| 10/10 [00:02<00:00,  4.16it/s, acc=41.9, loss=1.71]\n",
      "Epoch 79: : 100%|██████████| 10/10 [00:02<00:00,  4.13it/s, acc=42, loss=1.71] \n",
      "Epoch 80: : 100%|██████████| 10/10 [00:02<00:00,  4.22it/s, acc=41.8, loss=1.71]\n",
      "Epoch 81: : 100%|██████████| 10/10 [00:02<00:00,  4.18it/s, acc=42, loss=1.71] \n",
      "Epoch 82: : 100%|██████████| 10/10 [00:02<00:00,  4.12it/s, acc=42, loss=1.71] \n",
      "Epoch 83: : 100%|██████████| 10/10 [00:02<00:00,  4.16it/s, acc=42.1, loss=1.7]\n",
      "Epoch 84: : 100%|██████████| 10/10 [00:02<00:00,  4.16it/s, acc=42.1, loss=1.7]\n",
      "Epoch 85: : 100%|██████████| 10/10 [00:02<00:00,  4.18it/s, acc=42.1, loss=1.7]\n",
      "Epoch 86: : 100%|██████████| 10/10 [00:02<00:00,  4.23it/s, acc=42.1, loss=1.7]\n",
      "Epoch 87: : 100%|██████████| 10/10 [00:02<00:00,  4.26it/s, acc=42.1, loss=1.7]\n",
      "Epoch 88: : 100%|██████████| 10/10 [00:02<00:00,  4.19it/s, acc=42.1, loss=1.7]\n",
      "Epoch 89: : 100%|██████████| 10/10 [00:02<00:00,  4.22it/s, acc=42.2, loss=1.7]\n",
      "Epoch 90: : 100%|██████████| 10/10 [00:02<00:00,  4.28it/s, acc=42.2, loss=1.7]\n",
      "Epoch 91: : 100%|██████████| 10/10 [00:02<00:00,  4.24it/s, acc=42.2, loss=1.7]\n",
      "Epoch 92: : 100%|██████████| 10/10 [00:02<00:00,  4.21it/s, acc=42.1, loss=1.7]\n",
      "Epoch 93: : 100%|██████████| 10/10 [00:02<00:00,  4.21it/s, acc=42.2, loss=1.7]\n",
      "Epoch 94: : 100%|██████████| 10/10 [00:02<00:00,  4.27it/s, acc=42.1, loss=1.7]\n",
      "Epoch 95: : 100%|██████████| 10/10 [00:02<00:00,  4.12it/s, acc=42.3, loss=1.7]\n",
      "Epoch 96: : 100%|██████████| 10/10 [00:02<00:00,  4.27it/s, acc=42.2, loss=1.7]\n",
      "Epoch 97: : 100%|██████████| 10/10 [00:02<00:00,  4.23it/s, acc=42.3, loss=1.7]\n",
      "Epoch 98: : 100%|██████████| 10/10 [00:02<00:00,  4.20it/s, acc=42.3, loss=1.7]\n",
      "Epoch 99: : 100%|██████████| 10/10 [00:02<00:00,  4.23it/s, acc=42.4, loss=1.7]\n",
      "Epoch 100: : 100%|██████████| 10/10 [00:02<00:00,  4.20it/s, acc=42.3, loss=1.7]\n",
      "Epoch 101: : 100%|██████████| 10/10 [00:02<00:00,  4.28it/s, acc=42.4, loss=1.7]\n",
      "Epoch 102: : 100%|██████████| 10/10 [00:02<00:00,  4.19it/s, acc=42.3, loss=1.7]\n",
      "Epoch 103: : 100%|██████████| 10/10 [00:02<00:00,  4.15it/s, acc=42.3, loss=1.7]\n",
      "Epoch 104: : 100%|██████████| 10/10 [00:02<00:00,  4.22it/s, acc=42.2, loss=1.7]\n",
      "Epoch 105: : 100%|██████████| 10/10 [00:02<00:00,  4.12it/s, acc=42.3, loss=1.7]\n",
      "Epoch 106: : 100%|██████████| 10/10 [00:02<00:00,  4.17it/s, acc=42.3, loss=1.7]\n",
      "Epoch 107: : 100%|██████████| 10/10 [00:02<00:00,  4.25it/s, acc=42.3, loss=1.7]\n",
      "Epoch 108: : 100%|██████████| 10/10 [00:02<00:00,  4.04it/s, acc=42.4, loss=1.7]\n",
      "Epoch 109: : 100%|██████████| 10/10 [00:02<00:00,  4.21it/s, acc=42.4, loss=1.7]\n",
      "Epoch 110: : 100%|██████████| 10/10 [00:02<00:00,  4.21it/s, acc=42.4, loss=1.7]\n",
      "Epoch 111: : 100%|██████████| 10/10 [00:02<00:00,  4.17it/s, acc=42.4, loss=1.7]\n",
      "Epoch 112: : 100%|██████████| 10/10 [00:02<00:00,  4.24it/s, acc=42.5, loss=1.7]\n",
      "Epoch 113: : 100%|██████████| 10/10 [00:02<00:00,  4.15it/s, acc=42.6, loss=1.7]\n",
      "Epoch 114: : 100%|██████████| 10/10 [00:02<00:00,  4.21it/s, acc=42.3, loss=1.7]\n",
      "Epoch 115: : 100%|██████████| 10/10 [00:02<00:00,  4.20it/s, acc=42.5, loss=1.7]\n",
      "Epoch 116: : 100%|██████████| 10/10 [00:02<00:00,  4.22it/s, acc=42.4, loss=1.7]\n",
      "Epoch 117: : 100%|██████████| 10/10 [00:02<00:00,  4.25it/s, acc=42.4, loss=1.7]\n",
      "Epoch 118: : 100%|██████████| 10/10 [00:02<00:00,  4.20it/s, acc=42.4, loss=1.69]\n",
      "Epoch 119: : 100%|██████████| 10/10 [00:02<00:00,  4.21it/s, acc=42.5, loss=1.69]\n",
      "Epoch 120: : 100%|██████████| 10/10 [00:02<00:00,  4.24it/s, acc=42.4, loss=1.69]\n",
      "Epoch 121: : 100%|██████████| 10/10 [00:02<00:00,  4.23it/s, acc=42.5, loss=1.69]\n",
      "Epoch 122: : 100%|██████████| 10/10 [00:02<00:00,  4.18it/s, acc=42.4, loss=1.69]\n",
      "Epoch 123: : 100%|██████████| 10/10 [00:02<00:00,  4.19it/s, acc=42.6, loss=1.69]\n",
      "Epoch 124: : 100%|██████████| 10/10 [00:02<00:00,  3.96it/s, acc=42.6, loss=1.69]\n",
      "Epoch 125: : 100%|██████████| 10/10 [00:02<00:00,  4.19it/s, acc=42.5, loss=1.69]\n",
      "Epoch 126: : 100%|██████████| 10/10 [00:02<00:00,  4.19it/s, acc=42.6, loss=1.69]\n",
      "Epoch 127: : 100%|██████████| 10/10 [00:02<00:00,  4.16it/s, acc=42.6, loss=1.69]\n",
      "Epoch 128: : 100%|██████████| 10/10 [00:02<00:00,  4.22it/s, acc=42.7, loss=1.69]\n",
      "Epoch 129: : 100%|██████████| 10/10 [00:02<00:00,  4.17it/s, acc=42.6, loss=1.69]\n",
      "Epoch 130: : 100%|██████████| 10/10 [00:02<00:00,  4.21it/s, acc=42.4, loss=1.69]\n",
      "Epoch 131: : 100%|██████████| 10/10 [00:02<00:00,  4.19it/s, acc=42.6, loss=1.69]\n",
      "Epoch 132: : 100%|██████████| 10/10 [00:02<00:00,  4.22it/s, acc=42.7, loss=1.69]\n",
      "Epoch 133: : 100%|██████████| 10/10 [00:02<00:00,  4.23it/s, acc=42.6, loss=1.69]\n",
      "Epoch 134: : 100%|██████████| 10/10 [00:02<00:00,  4.19it/s, acc=42.7, loss=1.69]\n",
      "Epoch 135: : 100%|██████████| 10/10 [00:02<00:00,  4.20it/s, acc=42.5, loss=1.69]\n",
      "Epoch 136: : 100%|██████████| 10/10 [00:02<00:00,  4.11it/s, acc=42.6, loss=1.69]\n",
      "Epoch 137: : 100%|██████████| 10/10 [00:02<00:00,  4.23it/s, acc=42.6, loss=1.69]\n",
      "Epoch 138: : 100%|██████████| 10/10 [00:02<00:00,  4.27it/s, acc=42.7, loss=1.69]\n",
      "Epoch 139: : 100%|██████████| 10/10 [00:02<00:00,  4.15it/s, acc=42.6, loss=1.69]\n",
      "Epoch 140: : 100%|██████████| 10/10 [00:02<00:00,  4.23it/s, acc=42.6, loss=1.69]\n",
      "Epoch 141: : 100%|██████████| 10/10 [00:02<00:00,  4.19it/s, acc=42.7, loss=1.69]\n",
      "Epoch 142: : 100%|██████████| 10/10 [00:02<00:00,  4.20it/s, acc=42.7, loss=1.69]\n",
      "Epoch 143: : 100%|██████████| 10/10 [00:02<00:00,  4.24it/s, acc=42.6, loss=1.69]\n",
      "Epoch 144: : 100%|██████████| 10/10 [00:02<00:00,  4.21it/s, acc=42.7, loss=1.69]\n",
      "Epoch 145: : 100%|██████████| 10/10 [00:02<00:00,  4.18it/s, acc=42.7, loss=1.69]\n",
      "Epoch 146: : 100%|██████████| 10/10 [00:02<00:00,  4.17it/s, acc=42.7, loss=1.69]\n",
      "Epoch 147: : 100%|██████████| 10/10 [00:02<00:00,  4.20it/s, acc=42.7, loss=1.69]\n",
      "Epoch 148: : 100%|██████████| 10/10 [00:02<00:00,  4.20it/s, acc=42.8, loss=1.69]\n",
      "Epoch 149: : 100%|██████████| 10/10 [00:02<00:00,  4.24it/s, acc=42.6, loss=1.69]\n",
      "Epoch 150: : 100%|██████████| 10/10 [00:02<00:00,  4.19it/s, acc=42.7, loss=1.69]\n",
      "Epoch 151: : 100%|██████████| 10/10 [00:02<00:00,  3.95it/s, acc=42.7, loss=1.69]\n",
      "Epoch 152: : 100%|██████████| 10/10 [00:02<00:00,  4.22it/s, acc=42.7, loss=1.69]\n",
      "Epoch 153: : 100%|██████████| 10/10 [00:02<00:00,  4.17it/s, acc=42.6, loss=1.69]\n",
      "Epoch 154: : 100%|██████████| 10/10 [00:02<00:00,  4.23it/s, acc=42.7, loss=1.69]\n",
      "Epoch 155: : 100%|██████████| 10/10 [00:02<00:00,  4.22it/s, acc=42.7, loss=1.69]\n",
      "Epoch 156: : 100%|██████████| 10/10 [00:02<00:00,  4.20it/s, acc=42.7, loss=1.69]\n",
      "Epoch 157: : 100%|██████████| 10/10 [00:02<00:00,  4.17it/s, acc=42.7, loss=1.69]\n",
      "Epoch 158: : 100%|██████████| 10/10 [00:02<00:00,  4.11it/s, acc=42.7, loss=1.69]\n",
      "Epoch 159: : 100%|██████████| 10/10 [00:02<00:00,  4.20it/s, acc=42.8, loss=1.69]\n",
      "Epoch 160: : 100%|██████████| 10/10 [00:02<00:00,  4.20it/s, acc=42.7, loss=1.69]\n",
      "Epoch 161: : 100%|██████████| 10/10 [00:02<00:00,  4.19it/s, acc=42.7, loss=1.69]\n",
      "Epoch 162: : 100%|██████████| 10/10 [00:02<00:00,  4.23it/s, acc=42.7, loss=1.69]\n",
      "Epoch 163: : 100%|██████████| 10/10 [00:02<00:00,  4.24it/s, acc=42.7, loss=1.69]\n",
      "Epoch 164: : 100%|██████████| 10/10 [00:02<00:00,  4.05it/s, acc=42.7, loss=1.69]\n",
      "Epoch 165: : 100%|██████████| 10/10 [00:02<00:00,  4.18it/s, acc=42.7, loss=1.69]\n",
      "Epoch 166: : 100%|██████████| 10/10 [00:02<00:00,  4.22it/s, acc=42.8, loss=1.69]\n",
      "Epoch 167: : 100%|██████████| 10/10 [00:02<00:00,  4.23it/s, acc=42.8, loss=1.69]\n",
      "Epoch 168: : 100%|██████████| 10/10 [00:02<00:00,  4.21it/s, acc=42.7, loss=1.69]\n",
      "Epoch 169: : 100%|██████████| 10/10 [00:02<00:00,  4.21it/s, acc=42.7, loss=1.69]\n",
      "Epoch 170: : 100%|██████████| 10/10 [00:02<00:00,  4.15it/s, acc=42.8, loss=1.69]\n",
      "Epoch 171: : 100%|██████████| 10/10 [00:02<00:00,  4.18it/s, acc=42.8, loss=1.69]\n",
      "Epoch 172: : 100%|██████████| 10/10 [00:02<00:00,  4.22it/s, acc=42.8, loss=1.69]\n",
      "Epoch 173: : 100%|██████████| 10/10 [00:02<00:00,  4.21it/s, acc=42.8, loss=1.69]\n",
      "Epoch 174: : 100%|██████████| 10/10 [00:02<00:00,  4.23it/s, acc=42.8, loss=1.69]\n",
      "Epoch 175: : 100%|██████████| 10/10 [00:02<00:00,  4.19it/s, acc=42.7, loss=1.69]\n",
      "Epoch 176: : 100%|██████████| 10/10 [00:02<00:00,  4.22it/s, acc=42.7, loss=1.69]\n",
      "Epoch 177: : 100%|██████████| 10/10 [00:02<00:00,  4.21it/s, acc=42.7, loss=1.69]\n",
      "Epoch 178: : 100%|██████████| 10/10 [00:02<00:00,  4.19it/s, acc=42.8, loss=1.69]\n",
      "Epoch 179: : 100%|██████████| 10/10 [00:02<00:00,  4.18it/s, acc=42.8, loss=1.69]\n",
      "Epoch 180: : 100%|██████████| 10/10 [00:02<00:00,  4.14it/s, acc=42.8, loss=1.69]\n",
      "Epoch 181: : 100%|██████████| 10/10 [00:02<00:00,  4.23it/s, acc=42.8, loss=1.69]\n",
      "Epoch 182: : 100%|██████████| 10/10 [00:02<00:00,  4.24it/s, acc=42.8, loss=1.69]\n",
      "Epoch 183: : 100%|██████████| 10/10 [00:02<00:00,  4.23it/s, acc=42.8, loss=1.69]\n",
      "Epoch 184: : 100%|██████████| 10/10 [00:02<00:00,  4.26it/s, acc=42.8, loss=1.69]\n",
      "Epoch 185: : 100%|██████████| 10/10 [00:02<00:00,  4.20it/s, acc=42.7, loss=1.69]\n",
      "Epoch 186: : 100%|██████████| 10/10 [00:02<00:00,  4.18it/s, acc=42.8, loss=1.69]\n",
      "Epoch 187: : 100%|██████████| 10/10 [00:02<00:00,  4.20it/s, acc=42.8, loss=1.69]\n",
      "Epoch 188: : 100%|██████████| 10/10 [00:02<00:00,  4.20it/s, acc=42.8, loss=1.69]\n",
      "Epoch 189: : 100%|██████████| 10/10 [00:02<00:00,  4.22it/s, acc=42.8, loss=1.69]\n",
      "Epoch 190: : 100%|██████████| 10/10 [00:02<00:00,  4.25it/s, acc=42.8, loss=1.69]\n",
      "Epoch 191: : 100%|██████████| 10/10 [00:02<00:00,  4.18it/s, acc=42.8, loss=1.69]\n",
      "Epoch 192: : 100%|██████████| 10/10 [00:02<00:00,  4.21it/s, acc=42.8, loss=1.69]\n",
      "Epoch 193: : 100%|██████████| 10/10 [00:02<00:00,  4.20it/s, acc=42.8, loss=1.69]\n",
      "Epoch 194: : 100%|██████████| 10/10 [00:02<00:00,  4.26it/s, acc=42.8, loss=1.69]\n",
      "Epoch 195: : 100%|██████████| 10/10 [00:02<00:00,  4.19it/s, acc=42.8, loss=1.69]\n",
      "Epoch 196: : 100%|██████████| 10/10 [00:02<00:00,  4.23it/s, acc=42.8, loss=1.69]\n",
      "Epoch 197: : 100%|██████████| 10/10 [00:02<00:00,  4.20it/s, acc=42.8, loss=1.69]\n",
      "Epoch 198: : 100%|██████████| 10/10 [00:02<00:00,  4.20it/s, acc=42.8, loss=1.69]\n",
      "Epoch 199: : 100%|██████████| 10/10 [00:02<00:00,  4.22it/s, acc=42.8, loss=1.69]\n",
      "100%|██████████| 50000/50000 [00:19<00:00, 2559.73it/s]"
     ]
    },
    {
     "name": "stdout",
     "output_type": "stream",
     "text": [
      "28619\n"
     ]
    },
    {
     "name": "stderr",
     "output_type": "stream",
     "text": [
      "\n"
     ]
    }
   ],
   "source": [
    "import torch\n",
    "import torch.nn as nn\n",
    "import torch.optim as optim\n",
    "import torch.nn.functional as F\n",
    "from tqdm import tqdm\n",
    "\n",
    "linear = Linear(3*32*32, 10)\n",
    "criterion = nn.CrossEntropyLoss()\n",
    "optimizer = optim.SGD(linear.parameters(), lr=0.01,\n",
    "                      momentum=0.9, weight_decay=5e-4)\n",
    "scheduler = torch.optim.lr_scheduler.CosineAnnealingLR(optimizer, T_max=200)\n",
    "device=\"cuda:0\"\n",
    "linear.to(device)\n",
    "\n",
    "for epoch in range(200):\n",
    "    linear.train()\n",
    "    train_loss = 0\n",
    "    correct = 0\n",
    "    total = 0\n",
    "    pbar = tqdm(per_grad_train_loader)\n",
    "    pbar.set_description(f\"Epoch {epoch}: \")\n",
    "    for batch_idx, (inputs, targets) in enumerate(pbar):\n",
    "        inputs, targets = inputs.to(device), targets.to(device)\n",
    "        optimizer.zero_grad()\n",
    "        outputs = linear(inputs.reshape(batch_size, -1))\n",
    "        loss = criterion(outputs, targets)\n",
    "        loss.backward()\n",
    "        optimizer.step()\n",
    "\n",
    "        train_loss += loss.item()\n",
    "        _, predicted = outputs.max(1)\n",
    "        total += targets.size(0)\n",
    "        correct += predicted.eq(targets).sum().item()\n",
    "\n",
    "        pbar.set_postfix(loss=train_loss/(batch_idx+1), acc=100.*correct/total)\n",
    "\n",
    "        # print(batch_idx, len(per_grad_train_loader), 'Loss: %.3f | Acc: %.3f%% (%d/%d)'\n",
    "        #              % (train_loss/(batch_idx+1), 100.*correct/total, correct, total))\n",
    "    scheduler.step()\n",
    "\n",
    "import pickle\n",
    "\n",
    "pbar = tqdm(slow_loader)\n",
    "linear.eval()\n",
    "hard_list = []\n",
    "for index, (inputs, targets) in enumerate(pbar):\n",
    "    inputs, targets = inputs.to(device), targets.to(device)\n",
    "    outputs = linear(inputs.reshape(1, -1))\n",
    "    optimizer.step()\n",
    "\n",
    "    train_loss += loss.item()\n",
    "    _, predicted = outputs.max(1)\n",
    "    if predicted.eq(targets).sum().item() < 1:\n",
    "        hard_list.append(index)\n",
    "    \n",
    "with open(\"hard.pkl\", 'wb') as f:\n",
    "    pickle.dump(hard_list, f)\n",
    "print(len(hard_list))"
   ]
  },
  {
   "cell_type": "code",
   "execution_count": 14,
   "id": "09f5e615",
   "metadata": {},
   "outputs": [],
   "source": [
    "from torch.utils.data import Dataset\n",
    "\n",
    "class HardData(Dataset):\n",
    "    def __init__(self, dataset):\n",
    "        self.dataset = dataset\n",
    "        self.hards = []\n",
    "        with open(\"hard.pkl\", 'rb') as f:\n",
    "            pickle.load(self.hards, f)\n",
    "\n",
    "    def __getitem__(self, idx):\n",
    "        return self.dataset[self.hards[idx]]\n",
    "    \n",
    "    def __len__(self):\n",
    "        return len(self.hards)"
   ]
  },
  {
   "cell_type": "code",
   "execution_count": 28,
   "id": "6767ea17",
   "metadata": {},
   "outputs": [
    {
     "name": "stderr",
     "output_type": "stream",
     "text": [
      "  0%|          | 0/10 [00:00<?, ?it/s]"
     ]
    },
    {
     "name": "stdout",
     "output_type": "stream",
     "text": [
      "[[0.63829421]]\n"
     ]
    },
    {
     "name": "stderr",
     "output_type": "stream",
     "text": [
      " 10%|█         | 1/10 [00:30<04:37, 30.88s/it]"
     ]
    },
    {
     "name": "stdout",
     "output_type": "stream",
     "text": [
      "[[0.62820488]]\n"
     ]
    },
    {
     "name": "stderr",
     "output_type": "stream",
     "text": [
      " 20%|██        | 2/10 [01:01<04:07, 30.94s/it]"
     ]
    },
    {
     "name": "stdout",
     "output_type": "stream",
     "text": [
      "[[0.65555337]]\n"
     ]
    },
    {
     "name": "stderr",
     "output_type": "stream",
     "text": [
      " 30%|███       | 3/10 [01:33<03:38, 31.28s/it]"
     ]
    },
    {
     "name": "stdout",
     "output_type": "stream",
     "text": [
      "[[0.62012335]]\n"
     ]
    },
    {
     "name": "stderr",
     "output_type": "stream",
     "text": [
      " 40%|████      | 4/10 [02:04<03:06, 31.15s/it]"
     ]
    },
    {
     "name": "stdout",
     "output_type": "stream",
     "text": [
      "[[0.60048057]]\n"
     ]
    },
    {
     "name": "stderr",
     "output_type": "stream",
     "text": [
      " 50%|█████     | 5/10 [02:35<02:35, 31.04s/it]"
     ]
    },
    {
     "name": "stdout",
     "output_type": "stream",
     "text": [
      "[[0.66233158]]\n"
     ]
    },
    {
     "name": "stderr",
     "output_type": "stream",
     "text": [
      " 60%|██████    | 6/10 [03:06<02:04, 31.03s/it]"
     ]
    },
    {
     "name": "stdout",
     "output_type": "stream",
     "text": [
      "[[0.61627944]]\n"
     ]
    },
    {
     "name": "stderr",
     "output_type": "stream",
     "text": [
      " 70%|███████   | 7/10 [03:37<01:32, 30.97s/it]"
     ]
    },
    {
     "name": "stdout",
     "output_type": "stream",
     "text": [
      "[[0.62509996]]\n"
     ]
    },
    {
     "name": "stderr",
     "output_type": "stream",
     "text": [
      " 80%|████████  | 8/10 [04:08<01:01, 30.98s/it]"
     ]
    },
    {
     "name": "stdout",
     "output_type": "stream",
     "text": [
      "[[0.62822502]]\n"
     ]
    },
    {
     "name": "stderr",
     "output_type": "stream",
     "text": [
      " 90%|█████████ | 9/10 [04:39<00:30, 30.99s/it]"
     ]
    },
    {
     "name": "stdout",
     "output_type": "stream",
     "text": [
      "[[0.63427414]]\n"
     ]
    },
    {
     "name": "stderr",
     "output_type": "stream",
     "text": [
      "100%|██████████| 10/10 [05:10<00:00, 31.04s/it]\n"
     ]
    },
    {
     "data": {
      "image/png": "[encoded data removed]",
      "text/plain": [
       "<Figure size 1120x830 with 1 Axes>"
      ]
     },
     "metadata": {},
     "output_type": "display_data"
    }
   ],
   "source": [
    "from tqdm import tqdm\n",
    "\n",
    "fig, axs = plt.subplots()\n",
    "plt.yscale('log')\n",
    "\n",
    "chosen_coor = 0 # the coordinate for the logit to compute the NTK over\n",
    "\n",
    "# On each interation load the parameters from the relevant checkpoint, load a new\n",
    "# batch and compute the corresponding NTK\n",
    "for i in tqdm(range(num_runs)):\n",
    "    # Get a new batch\n",
    "    data, targets = next(iter(per_grad_train_loader))\n",
    "    \n",
    "    # Order the batch by class\n",
    "    data, targets, indices_ranges = ntk_utils.order_batch(data, targets, 10)\n",
    "    y = [1 if c == chosen_coor else -1 for c in targets]\n",
    "    y = np.expand_dims(np.array(y), axis=1)\n",
    "    \n",
    "    # Compute the gradients for the relevant checkpoint\n",
    "    checkpoint_file = '{}/init{}.p'.format(checkpoint_dir, i)\n",
    "    fw = ntk_utils.f_nabla_w(checkpoint_file, input_data=data)\n",
    "    \n",
    "    # Select the gradients for the specific coordinate\n",
    "    fw_coor = fw[:,:,chosen_coor]\n",
    "    \n",
    "    # Compute the NTK for the chosen coordinate\n",
    "    coor_NTK = ntk_utils.NTK(fw, coor=chosen_coor)\n",
    "    value = y.transpose() @ coor_NTK @ y\n",
    "    value /= np.linalg.norm(y) ** 2 * np.linalg.norm(coor_NTK)\n",
    "    print(value.item())\n",
    "    \n",
    "    # Compute eigenvalues for the NTK\n",
    "    eigs = np.linalg.eigvalsh(coor_NTK)\n",
    "    eigs_reversed_sorted = np.sort(eigs)[::-1]\n",
    "    max_eig = eigs_reversed_sorted[0]\n",
    "    \n",
    "    # Add the normalized spectrum to the plot\n",
    "    axs.plot(eigs_reversed_sorted[:batch_size//2])\n",
    "\n",
    "\n",
    "fig.set_size_inches(11.2, 8.3)\n",
    "fig.savefig('lenet5mnist.png')"
   ]
  }
 ],
 "metadata": {
  "kernelspec": {
   "display_name": "Python 3 (ipykernel)",
   "language": "python",
   "name": "python3"
  },
  "language_info": {
   "codemirror_mode": {
    "name": "ipython",
    "version": 3
   },
   "file_extension": ".py",
   "mimetype": "text/x-python",
   "name": "python",
   "nbconvert_exporter": "python",
   "pygments_lexer": "ipython3",
   "version": "3.10.12"
  }
 },
 "nbformat": 4,
 "nbformat_minor": 5
}
