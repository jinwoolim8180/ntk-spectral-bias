{
 "cells": [
  {
   "cell_type": "code",
   "execution_count": 1,
   "id": "86bfb943",
   "metadata": {},
   "outputs": [],
   "source": [
    "import torch\n",
    "import torchvision.datasets as datasets\n",
    "import torchvision.transforms as transforms\n",
    "from torch.utils.data import DataLoader\n",
    "import numpy as np\n",
    "import matplotlib.pyplot as plt\n",
    "\n",
    "# hack to import files from parent directory\n",
    "import os\n",
    "import sys\n",
    "upper_dir = os.path.abspath(os.path.join('..'))\n",
    "if upper_dir not in sys.path:\n",
    "    sys.path.append(upper_dir)\n",
    "    \n",
    "\n",
    "# packages existing in parent directory\n",
    "from LeNet.lenet import LeNet5\n",
    "import hercules.ntk_utils as ntk_utils\n",
    "\n"
   ]
  },
  {
   "cell_type": "code",
   "execution_count": 2,
   "id": "2ae598b4",
   "metadata": {},
   "outputs": [
    {
     "name": "stdout",
     "output_type": "stream",
     "text": [
      "saving model checkpoint\n",
      "saving model checkpoint\n",
      "saving model checkpoint\n",
      "saving model checkpoint\n",
      "saving model checkpoint\n",
      "saving model checkpoint\n",
      "saving model checkpoint\n",
      "saving model checkpoint\n",
      "saving model checkpoint\n",
      "saving model checkpoint\n"
     ]
    }
   ],
   "source": [
    "# Create and save 'num_runs' randomly initialized parameters\n",
    "num_runs = 10\n",
    "checkpoint_dir = '../checkpoints/run1'\n",
    "\n",
    "for i in range(num_runs):\n",
    "    net = LeNet5(c=3)\n",
    "    print('saving model checkpoint')\n",
    "    torch.save(net, '{}/init{}.p'.format(checkpoint_dir, i))"
   ]
  },
  {
   "cell_type": "code",
   "execution_count": 14,
   "id": "be4754e5",
   "metadata": {},
   "outputs": [
    {
     "name": "stdout",
     "output_type": "stream",
     "text": [
      "Files already downloaded and verified\n"
     ]
    }
   ],
   "source": [
    "# Import the MNIST dataset and prepare dataloader\n",
    "batch_size= 5000\n",
    "\n",
    "data_train = datasets.CIFAR10('../data/cifar',\n",
    "                  train=True,\n",
    "                  download=True,\n",
    "                  transform=transforms.Compose([\n",
    "                      transforms.Resize((32, 32)),\n",
    "                      transforms.ToTensor()]))\n",
    "\n",
    "per_grad_train_loader = DataLoader(data_train, batch_size=batch_size, shuffle=True, num_workers=2)\n",
    "slow_loader = DataLoader(data_train, batch_size=1, shuffle=False)"
   ]
  },
  {
   "cell_type": "code",
   "execution_count": 10,
   "id": "465cdc58",
   "metadata": {},
   "outputs": [],
   "source": [
    "import torch.nn as nn\n",
    "\n",
    "class Linear(nn.Module):\n",
    "    def __init__(self, dim, c):\n",
    "        super(Linear, self).__init__()\n",
    "        self.layer = nn.Linear(dim, c)\n",
    "\n",
    "    def forward(self, x):\n",
    "        return self.layer(x)"
   ]
  },
  {
   "cell_type": "code",
   "execution_count": 23,
   "id": "afa86d72",
   "metadata": {},
   "outputs": [
    {
     "name": "stderr",
     "output_type": "stream",
     "text": [
      "Epoch 0: :   0%|          | 0/10 [00:00<?, ?it/s]"
     ]
    },
    {
     "name": "stderr",
     "output_type": "stream",
     "text": [
      "Epoch 0: : 100%|██████████| 10/10 [00:02<00:00,  4.08it/s, acc=17.2, loss=2.24]\n",
      "Epoch 1: : 100%|██████████| 10/10 [00:02<00:00,  4.03it/s, acc=27.6, loss=2.04]\n",
      "Epoch 2: : 100%|██████████| 10/10 [00:02<00:00,  4.05it/s, acc=31.7, loss=1.96]\n",
      "Epoch 3: : 100%|██████████| 10/10 [00:02<00:00,  4.08it/s, acc=33.8, loss=1.91]\n",
      "Epoch 4: : 100%|██████████| 10/10 [00:02<00:00,  3.78it/s, acc=35.4, loss=1.88]\n",
      "Epoch 5: : 100%|██████████| 10/10 [00:02<00:00,  4.04it/s, acc=36.1, loss=1.86]\n",
      "Epoch 6: : 100%|██████████| 10/10 [00:02<00:00,  4.08it/s, acc=36.7, loss=1.84]\n",
      "Epoch 7: : 100%|██████████| 10/10 [00:02<00:00,  4.03it/s, acc=37.1, loss=1.83]\n",
      "Epoch 8: : 100%|██████████| 10/10 [00:02<00:00,  4.04it/s, acc=37, loss=1.83] \n",
      "Epoch 9: : 100%|██████████| 10/10 [00:02<00:00,  4.06it/s, acc=37.6, loss=1.82]\n",
      "Epoch 10: : 100%|██████████| 10/10 [00:02<00:00,  4.05it/s, acc=37.9, loss=1.81]\n",
      "Epoch 11: : 100%|██████████| 10/10 [00:02<00:00,  4.02it/s, acc=38.2, loss=1.8]\n",
      "Epoch 12: : 100%|██████████| 10/10 [00:02<00:00,  4.07it/s, acc=38, loss=1.8]  \n",
      "Epoch 13: : 100%|██████████| 10/10 [00:02<00:00,  4.03it/s, acc=38.3, loss=1.8]\n",
      "Epoch 14: : 100%|██████████| 10/10 [00:02<00:00,  4.02it/s, acc=38.6, loss=1.79]\n",
      "Epoch 15: : 100%|██████████| 10/10 [00:02<00:00,  4.03it/s, acc=38.9, loss=1.78]\n",
      "Epoch 16: : 100%|██████████| 10/10 [00:02<00:00,  4.07it/s, acc=38.8, loss=1.78]\n",
      "Epoch 17: : 100%|██████████| 10/10 [00:02<00:00,  4.02it/s, acc=39.1, loss=1.78]\n",
      "Epoch 18: : 100%|██████████| 10/10 [00:02<00:00,  3.99it/s, acc=39.1, loss=1.78]\n",
      "Epoch 19: : 100%|██████████| 10/10 [00:02<00:00,  4.00it/s, acc=39.2, loss=1.77]\n",
      "Epoch 20: : 100%|██████████| 10/10 [00:02<00:00,  4.03it/s, acc=39.2, loss=1.77]\n",
      "Epoch 21: : 100%|██████████| 10/10 [00:02<00:00,  4.02it/s, acc=39.5, loss=1.77]\n",
      "Epoch 22: : 100%|██████████| 10/10 [00:02<00:00,  3.95it/s, acc=39.5, loss=1.77]\n",
      "Epoch 23: : 100%|██████████| 10/10 [00:02<00:00,  3.97it/s, acc=39.7, loss=1.76]\n",
      "Epoch 24: : 100%|██████████| 10/10 [00:02<00:00,  4.00it/s, acc=39.7, loss=1.76]\n",
      "Epoch 25: : 100%|██████████| 10/10 [00:02<00:00,  4.04it/s, acc=39.9, loss=1.76]\n",
      "Epoch 26: : 100%|██████████| 10/10 [00:02<00:00,  4.03it/s, acc=40, loss=1.76] \n",
      "Epoch 27: : 100%|██████████| 10/10 [00:02<00:00,  4.01it/s, acc=40, loss=1.75] \n",
      "Epoch 28: : 100%|██████████| 10/10 [00:02<00:00,  4.06it/s, acc=39.9, loss=1.76]\n",
      "Epoch 29: : 100%|██████████| 10/10 [00:02<00:00,  4.05it/s, acc=39.9, loss=1.75]\n",
      "Epoch 30: : 100%|██████████| 10/10 [00:02<00:00,  4.00it/s, acc=39.9, loss=1.75]\n",
      "Epoch 31: : 100%|██████████| 10/10 [00:02<00:00,  3.99it/s, acc=40.2, loss=1.75]\n",
      "Epoch 32: : 100%|██████████| 10/10 [00:02<00:00,  4.00it/s, acc=40.4, loss=1.75]\n",
      "Epoch 33: :  50%|█████     | 5/10 [00:01<00:01,  3.17it/s, acc=40.1, loss=1.75]\n"
     ]
    },
    {
     "ename": "KeyboardInterrupt",
     "evalue": "",
     "output_type": "error",
     "traceback": [
      "\u001b[0;31m---------------------------------------------------------------------------\u001b[0m",
      "\u001b[0;31mKeyboardInterrupt\u001b[0m                         Traceback (most recent call last)",
      "Cell \u001b[0;32mIn[23], line 22\u001b[0m\n\u001b[1;32m     20\u001b[0m pbar \u001b[38;5;241m=\u001b[39m tqdm(per_grad_train_loader)\n\u001b[1;32m     21\u001b[0m pbar\u001b[38;5;241m.\u001b[39mset_description(\u001b[38;5;124mf\u001b[39m\u001b[38;5;124m\"\u001b[39m\u001b[38;5;124mEpoch \u001b[39m\u001b[38;5;132;01m{\u001b[39;00mepoch\u001b[38;5;132;01m}\u001b[39;00m\u001b[38;5;124m: \u001b[39m\u001b[38;5;124m\"\u001b[39m)\n\u001b[0;32m---> 22\u001b[0m \u001b[38;5;28;01mfor\u001b[39;00m batch_idx, (inputs, targets) \u001b[38;5;129;01min\u001b[39;00m \u001b[38;5;28menumerate\u001b[39m(pbar):\n\u001b[1;32m     23\u001b[0m     inputs, targets \u001b[38;5;241m=\u001b[39m inputs\u001b[38;5;241m.\u001b[39mto(device), targets\u001b[38;5;241m.\u001b[39mto(device)\n\u001b[1;32m     24\u001b[0m     optimizer\u001b[38;5;241m.\u001b[39mzero_grad()\n",
      "File \u001b[0;32m~/.local/lib/python3.10/site-packages/tqdm/std.py:1181\u001b[0m, in \u001b[0;36mtqdm.__iter__\u001b[0;34m(self)\u001b[0m\n\u001b[1;32m   1178\u001b[0m time \u001b[38;5;241m=\u001b[39m \u001b[38;5;28mself\u001b[39m\u001b[38;5;241m.\u001b[39m_time\n\u001b[1;32m   1180\u001b[0m \u001b[38;5;28;01mtry\u001b[39;00m:\n\u001b[0;32m-> 1181\u001b[0m     \u001b[38;5;28;01mfor\u001b[39;00m obj \u001b[38;5;129;01min\u001b[39;00m iterable:\n\u001b[1;32m   1182\u001b[0m         \u001b[38;5;28;01myield\u001b[39;00m obj\n\u001b[1;32m   1183\u001b[0m         \u001b[38;5;66;03m# Update and possibly print the progressbar.\u001b[39;00m\n\u001b[1;32m   1184\u001b[0m         \u001b[38;5;66;03m# Note: does not call self.update(1) for speed optimisation.\u001b[39;00m\n",
      "File \u001b[0;32m~/.local/lib/python3.10/site-packages/torch/utils/data/dataloader.py:631\u001b[0m, in \u001b[0;36m_BaseDataLoaderIter.__next__\u001b[0;34m(self)\u001b[0m\n\u001b[1;32m    628\u001b[0m \u001b[38;5;28;01mif\u001b[39;00m \u001b[38;5;28mself\u001b[39m\u001b[38;5;241m.\u001b[39m_sampler_iter \u001b[38;5;129;01mis\u001b[39;00m \u001b[38;5;28;01mNone\u001b[39;00m:\n\u001b[1;32m    629\u001b[0m     \u001b[38;5;66;03m# TODO(https://github.com/pytorch/pytorch/issues/76750)\u001b[39;00m\n\u001b[1;32m    630\u001b[0m     \u001b[38;5;28mself\u001b[39m\u001b[38;5;241m.\u001b[39m_reset()  \u001b[38;5;66;03m# type: ignore[call-arg]\u001b[39;00m\n\u001b[0;32m--> 631\u001b[0m data \u001b[38;5;241m=\u001b[39m \u001b[38;5;28;43mself\u001b[39;49m\u001b[38;5;241;43m.\u001b[39;49m\u001b[43m_next_data\u001b[49m\u001b[43m(\u001b[49m\u001b[43m)\u001b[49m\n\u001b[1;32m    632\u001b[0m \u001b[38;5;28mself\u001b[39m\u001b[38;5;241m.\u001b[39m_num_yielded \u001b[38;5;241m+\u001b[39m\u001b[38;5;241m=\u001b[39m \u001b[38;5;241m1\u001b[39m\n\u001b[1;32m    633\u001b[0m \u001b[38;5;28;01mif\u001b[39;00m \u001b[38;5;28mself\u001b[39m\u001b[38;5;241m.\u001b[39m_dataset_kind \u001b[38;5;241m==\u001b[39m _DatasetKind\u001b[38;5;241m.\u001b[39mIterable \u001b[38;5;129;01mand\u001b[39;00m \\\n\u001b[1;32m    634\u001b[0m         \u001b[38;5;28mself\u001b[39m\u001b[38;5;241m.\u001b[39m_IterableDataset_len_called \u001b[38;5;129;01mis\u001b[39;00m \u001b[38;5;129;01mnot\u001b[39;00m \u001b[38;5;28;01mNone\u001b[39;00m \u001b[38;5;129;01mand\u001b[39;00m \\\n\u001b[1;32m    635\u001b[0m         \u001b[38;5;28mself\u001b[39m\u001b[38;5;241m.\u001b[39m_num_yielded \u001b[38;5;241m>\u001b[39m \u001b[38;5;28mself\u001b[39m\u001b[38;5;241m.\u001b[39m_IterableDataset_len_called:\n",
      "File \u001b[0;32m~/.local/lib/python3.10/site-packages/torch/utils/data/dataloader.py:1346\u001b[0m, in \u001b[0;36m_MultiProcessingDataLoaderIter._next_data\u001b[0;34m(self)\u001b[0m\n\u001b[1;32m   1344\u001b[0m \u001b[38;5;28;01melse\u001b[39;00m:\n\u001b[1;32m   1345\u001b[0m     \u001b[38;5;28;01mdel\u001b[39;00m \u001b[38;5;28mself\u001b[39m\u001b[38;5;241m.\u001b[39m_task_info[idx]\n\u001b[0;32m-> 1346\u001b[0m     \u001b[38;5;28;01mreturn\u001b[39;00m \u001b[38;5;28;43mself\u001b[39;49m\u001b[38;5;241;43m.\u001b[39;49m\u001b[43m_process_data\u001b[49m\u001b[43m(\u001b[49m\u001b[43mdata\u001b[49m\u001b[43m)\u001b[49m\n",
      "File \u001b[0;32m~/.local/lib/python3.10/site-packages/torch/utils/data/dataloader.py:1370\u001b[0m, in \u001b[0;36m_MultiProcessingDataLoaderIter._process_data\u001b[0;34m(self, data)\u001b[0m\n\u001b[1;32m   1368\u001b[0m \u001b[38;5;28;01mdef\u001b[39;00m \u001b[38;5;21m_process_data\u001b[39m(\u001b[38;5;28mself\u001b[39m, data):\n\u001b[1;32m   1369\u001b[0m     \u001b[38;5;28mself\u001b[39m\u001b[38;5;241m.\u001b[39m_rcvd_idx \u001b[38;5;241m+\u001b[39m\u001b[38;5;241m=\u001b[39m \u001b[38;5;241m1\u001b[39m\n\u001b[0;32m-> 1370\u001b[0m     \u001b[38;5;28;43mself\u001b[39;49m\u001b[38;5;241;43m.\u001b[39;49m\u001b[43m_try_put_index\u001b[49m\u001b[43m(\u001b[49m\u001b[43m)\u001b[49m\n\u001b[1;32m   1371\u001b[0m     \u001b[38;5;28;01mif\u001b[39;00m \u001b[38;5;28misinstance\u001b[39m(data, ExceptionWrapper):\n\u001b[1;32m   1372\u001b[0m         data\u001b[38;5;241m.\u001b[39mreraise()\n",
      "File \u001b[0;32m~/.local/lib/python3.10/site-packages/torch/utils/data/dataloader.py:1352\u001b[0m, in \u001b[0;36m_MultiProcessingDataLoaderIter._try_put_index\u001b[0;34m(self)\u001b[0m\n\u001b[1;32m   1349\u001b[0m \u001b[38;5;28;01massert\u001b[39;00m \u001b[38;5;28mself\u001b[39m\u001b[38;5;241m.\u001b[39m_tasks_outstanding \u001b[38;5;241m<\u001b[39m \u001b[38;5;28mself\u001b[39m\u001b[38;5;241m.\u001b[39m_prefetch_factor \u001b[38;5;241m*\u001b[39m \u001b[38;5;28mself\u001b[39m\u001b[38;5;241m.\u001b[39m_num_workers\n\u001b[1;32m   1351\u001b[0m \u001b[38;5;28;01mtry\u001b[39;00m:\n\u001b[0;32m-> 1352\u001b[0m     index \u001b[38;5;241m=\u001b[39m \u001b[38;5;28;43mself\u001b[39;49m\u001b[38;5;241;43m.\u001b[39;49m\u001b[43m_next_index\u001b[49m\u001b[43m(\u001b[49m\u001b[43m)\u001b[49m\n\u001b[1;32m   1353\u001b[0m \u001b[38;5;28;01mexcept\u001b[39;00m \u001b[38;5;167;01mStopIteration\u001b[39;00m:\n\u001b[1;32m   1354\u001b[0m     \u001b[38;5;28;01mreturn\u001b[39;00m\n",
      "File \u001b[0;32m~/.local/lib/python3.10/site-packages/torch/utils/data/dataloader.py:621\u001b[0m, in \u001b[0;36m_BaseDataLoaderIter._next_index\u001b[0;34m(self)\u001b[0m\n\u001b[1;32m    620\u001b[0m \u001b[38;5;28;01mdef\u001b[39;00m \u001b[38;5;21m_next_index\u001b[39m(\u001b[38;5;28mself\u001b[39m):\n\u001b[0;32m--> 621\u001b[0m     \u001b[38;5;28;01mreturn\u001b[39;00m \u001b[38;5;28;43mnext\u001b[39;49m\u001b[43m(\u001b[49m\u001b[38;5;28;43mself\u001b[39;49m\u001b[38;5;241;43m.\u001b[39;49m\u001b[43m_sampler_iter\u001b[49m\u001b[43m)\u001b[49m\n",
      "File \u001b[0;32m~/.local/lib/python3.10/site-packages/torch/utils/data/sampler.py:290\u001b[0m, in \u001b[0;36mBatchSampler.__iter__\u001b[0;34m(self)\u001b[0m\n\u001b[1;32m    288\u001b[0m batch[idx_in_batch] \u001b[38;5;241m=\u001b[39m idx\n\u001b[1;32m    289\u001b[0m idx_in_batch \u001b[38;5;241m+\u001b[39m\u001b[38;5;241m=\u001b[39m \u001b[38;5;241m1\u001b[39m\n\u001b[0;32m--> 290\u001b[0m \u001b[38;5;28;01mif\u001b[39;00m idx_in_batch \u001b[38;5;241m==\u001b[39m \u001b[38;5;28mself\u001b[39m\u001b[38;5;241m.\u001b[39mbatch_size:\n\u001b[1;32m    291\u001b[0m     \u001b[38;5;28;01myield\u001b[39;00m batch\n\u001b[1;32m    292\u001b[0m     idx_in_batch \u001b[38;5;241m=\u001b[39m \u001b[38;5;241m0\u001b[39m\n",
      "\u001b[0;31mKeyboardInterrupt\u001b[0m: "
     ]
    }
   ],
   "source": [
    "import torch\n",
    "import torch.nn as nn\n",
    "import torch.optim as optim\n",
    "import torch.nn.functional as F\n",
    "from tqdm import tqdm\n",
    "\n",
    "linear = Linear(3*32*32, 10)\n",
    "criterion = nn.CrossEntropyLoss()\n",
    "optimizer = optim.SGD(linear.parameters(), lr=0.01,\n",
    "                      momentum=0.9, weight_decay=5e-4)\n",
    "scheduler = torch.optim.lr_scheduler.CosineAnnealingLR(optimizer, T_max=200)\n",
    "device=\"cuda:0\"\n",
    "linear.to(device)\n",
    "\n",
    "for epoch in range(200):\n",
    "    linear.train()\n",
    "    train_loss = 0\n",
    "    correct = 0\n",
    "    total = 0\n",
    "    pbar = tqdm(per_grad_train_loader)\n",
    "    pbar.set_description(f\"Epoch {epoch}: \")\n",
    "    for batch_idx, (inputs, targets) in enumerate(pbar):\n",
    "        inputs, targets = inputs.to(device), targets.to(device)\n",
    "        optimizer.zero_grad()\n",
    "        outputs = linear(inputs.reshape(batch_size, -1))\n",
    "        loss = criterion(outputs, targets)\n",
    "        loss.backward()\n",
    "        optimizer.step()\n",
    "\n",
    "        train_loss += loss.item()\n",
    "        _, predicted = outputs.max(1)\n",
    "        total += targets.size(0)\n",
    "        correct += predicted.eq(targets).sum().item()\n",
    "\n",
    "        pbar.set_postfix(loss=train_loss/(batch_idx+1), acc=100.*correct/total)\n",
    "\n",
    "        # print(batch_idx, len(per_grad_train_loader), 'Loss: %.3f | Acc: %.3f%% (%d/%d)'\n",
    "        #              % (train_loss/(batch_idx+1), 100.*correct/total, correct, total))\n",
    "    scheduler.step()\n",
    "\n",
    "import pickle\n",
    "\n",
    "pbar = tqdm(slow_loader)\n",
    "linear.eval()\n",
    "hard_list = []\n",
    "for index, (inputs, targets) in enumerate(pbar):\n",
    "    inputs, targets = inputs.to(device), targets.to(device)\n",
    "    outputs = linear(inputs.reshape(1, -1))\n",
    "    optimizer.step()\n",
    "\n",
    "    train_loss += loss.item()\n",
    "    _, predicted = outputs.max(1)\n",
    "    if predicted.eq(targets).sum().item() < 1:\n",
    "        hard_list.append(index)\n",
    "    \n",
    "with open(\"hard.pkl\", 'wb') as f:\n",
    "    pickle.dump(hard_list, f)\n",
    "print(len(hard_list))"
   ]
  },
  {
   "cell_type": "code",
   "execution_count": 21,
   "id": "09f5e615",
   "metadata": {},
   "outputs": [],
   "source": [
    "from torch.utils.data import Dataset\n",
    "\n",
    "class HardData(Dataset):\n",
    "    def __init__(self, dataset):\n",
    "        self.dataset = dataset\n",
    "        self.hards = []\n",
    "        with open(\"hard.pkl\", 'rb') as f:\n",
    "            pickle.load(self.hards, f)\n",
    "\n",
    "    def __getitem__(self, idx):\n",
    "        return self.dataset[self.hards[idx]]\n",
    "    \n",
    "    def __len__(self):\n",
    "        return len(self.hards)"
   ]
  },
  {
   "cell_type": "code",
   "execution_count": 4,
   "id": "6767ea17",
   "metadata": {},
   "outputs": [
    {
     "name": "stderr",
     "output_type": "stream",
     "text": [
      "  0%|          | 0/10 [00:00<?, ?it/s]"
     ]
    },
    {
     "name": "stderr",
     "output_type": "stream",
     "text": [
      "/home/jinwoolim/.local/lib/python3.10/site-packages/torch/nn/modules/module.py:1373: UserWarning: Using a non-full backward hook when the forward contains multiple autograd Nodes is deprecated and will be removed in future versions. This hook will be missing some grad_input. Please use register_full_backward_hook to get the documented behavior.\n",
      "  warnings.warn(\"Using a non-full backward hook when the forward contains multiple autograd Nodes \"\n"
     ]
    },
    {
     "name": "stdout",
     "output_type": "stream",
     "text": [
      "(5000, 5000)\n"
     ]
    },
    {
     "name": "stderr",
     "output_type": "stream",
     "text": [
      " 10%|█         | 1/10 [00:31<04:40, 31.13s/it]"
     ]
    },
    {
     "name": "stdout",
     "output_type": "stream",
     "text": [
      "(5000, 5000)\n"
     ]
    },
    {
     "name": "stderr",
     "output_type": "stream",
     "text": [
      " 20%|██        | 2/10 [01:21<05:24, 40.52s/it]\n"
     ]
    },
    {
     "ename": "KeyboardInterrupt",
     "evalue": "",
     "output_type": "error",
     "traceback": [
      "\u001b[0;31m---------------------------------------------------------------------------\u001b[0m",
      "\u001b[0;31mKeyboardInterrupt\u001b[0m                         Traceback (most recent call last)",
      "Cell \u001b[0;32mIn[4], line 19\u001b[0m\n\u001b[1;32m     17\u001b[0m \u001b[38;5;66;03m# Compute the gradients for the relevant checkpoint\u001b[39;00m\n\u001b[1;32m     18\u001b[0m checkpoint_file \u001b[38;5;241m=\u001b[39m \u001b[38;5;124m'\u001b[39m\u001b[38;5;132;01m{}\u001b[39;00m\u001b[38;5;124m/init\u001b[39m\u001b[38;5;132;01m{}\u001b[39;00m\u001b[38;5;124m.p\u001b[39m\u001b[38;5;124m'\u001b[39m\u001b[38;5;241m.\u001b[39mformat(checkpoint_dir, i)\n\u001b[0;32m---> 19\u001b[0m fw \u001b[38;5;241m=\u001b[39m \u001b[43mntk_utils\u001b[49m\u001b[38;5;241;43m.\u001b[39;49m\u001b[43mf_nabla_w\u001b[49m\u001b[43m(\u001b[49m\u001b[43mcheckpoint_file\u001b[49m\u001b[43m,\u001b[49m\u001b[43m \u001b[49m\u001b[43minput_data\u001b[49m\u001b[38;5;241;43m=\u001b[39;49m\u001b[43mdata\u001b[49m\u001b[43m)\u001b[49m\n\u001b[1;32m     21\u001b[0m \u001b[38;5;66;03m# Select the gradients for the specific coordinate\u001b[39;00m\n\u001b[1;32m     22\u001b[0m fw_coor \u001b[38;5;241m=\u001b[39m fw[:,:,chosen_coor]\n",
      "File \u001b[0;32m~/ntk-spectral-bias/deep/hercules/ntk_utils.py:58\u001b[0m, in \u001b[0;36mf_nabla_w\u001b[0;34m(net_checkpoint, input_data)\u001b[0m\n\u001b[1;32m     56\u001b[0m output \u001b[38;5;241m=\u001b[39m net(input_data)\n\u001b[1;32m     57\u001b[0m autograd_hacks\u001b[38;5;241m.\u001b[39mclear_backprops(net)\n\u001b[0;32m---> 58\u001b[0m \u001b[43mcoor_loss\u001b[49m\u001b[43m(\u001b[49m\u001b[43moutput\u001b[49m\u001b[43m,\u001b[49m\u001b[43m \u001b[49m\u001b[38;5;28;43mcls\u001b[39;49m\u001b[43m)\u001b[49m\u001b[38;5;241;43m.\u001b[39;49m\u001b[43mbackward\u001b[49m\u001b[43m(\u001b[49m\u001b[43mretain_graph\u001b[49m\u001b[38;5;241;43m=\u001b[39;49m\u001b[38;5;28;43;01mTrue\u001b[39;49;00m\u001b[43m)\u001b[49m\n\u001b[1;32m     59\u001b[0m autograd_hacks\u001b[38;5;241m.\u001b[39mcompute_grad1(net)\n\u001b[1;32m     60\u001b[0m autograd_hacks\u001b[38;5;241m.\u001b[39mdisable_hooks()\n",
      "File \u001b[0;32m~/.local/lib/python3.10/site-packages/torch/_tensor.py:525\u001b[0m, in \u001b[0;36mTensor.backward\u001b[0;34m(self, gradient, retain_graph, create_graph, inputs)\u001b[0m\n\u001b[1;32m    515\u001b[0m \u001b[38;5;28;01mif\u001b[39;00m has_torch_function_unary(\u001b[38;5;28mself\u001b[39m):\n\u001b[1;32m    516\u001b[0m     \u001b[38;5;28;01mreturn\u001b[39;00m handle_torch_function(\n\u001b[1;32m    517\u001b[0m         Tensor\u001b[38;5;241m.\u001b[39mbackward,\n\u001b[1;32m    518\u001b[0m         (\u001b[38;5;28mself\u001b[39m,),\n\u001b[0;32m   (...)\u001b[0m\n\u001b[1;32m    523\u001b[0m         inputs\u001b[38;5;241m=\u001b[39minputs,\n\u001b[1;32m    524\u001b[0m     )\n\u001b[0;32m--> 525\u001b[0m \u001b[43mtorch\u001b[49m\u001b[38;5;241;43m.\u001b[39;49m\u001b[43mautograd\u001b[49m\u001b[38;5;241;43m.\u001b[39;49m\u001b[43mbackward\u001b[49m\u001b[43m(\u001b[49m\n\u001b[1;32m    526\u001b[0m \u001b[43m    \u001b[49m\u001b[38;5;28;43mself\u001b[39;49m\u001b[43m,\u001b[49m\u001b[43m \u001b[49m\u001b[43mgradient\u001b[49m\u001b[43m,\u001b[49m\u001b[43m \u001b[49m\u001b[43mretain_graph\u001b[49m\u001b[43m,\u001b[49m\u001b[43m \u001b[49m\u001b[43mcreate_graph\u001b[49m\u001b[43m,\u001b[49m\u001b[43m \u001b[49m\u001b[43minputs\u001b[49m\u001b[38;5;241;43m=\u001b[39;49m\u001b[43minputs\u001b[49m\n\u001b[1;32m    527\u001b[0m \u001b[43m\u001b[49m\u001b[43m)\u001b[49m\n",
      "File \u001b[0;32m~/.local/lib/python3.10/site-packages/torch/autograd/__init__.py:267\u001b[0m, in \u001b[0;36mbackward\u001b[0;34m(tensors, grad_tensors, retain_graph, create_graph, grad_variables, inputs)\u001b[0m\n\u001b[1;32m    262\u001b[0m     retain_graph \u001b[38;5;241m=\u001b[39m create_graph\n\u001b[1;32m    264\u001b[0m \u001b[38;5;66;03m# The reason we repeat the same comment below is that\u001b[39;00m\n\u001b[1;32m    265\u001b[0m \u001b[38;5;66;03m# some Python versions print out the first line of a multi-line function\u001b[39;00m\n\u001b[1;32m    266\u001b[0m \u001b[38;5;66;03m# calls in the traceback and some print out the last line\u001b[39;00m\n\u001b[0;32m--> 267\u001b[0m \u001b[43m_engine_run_backward\u001b[49m\u001b[43m(\u001b[49m\n\u001b[1;32m    268\u001b[0m \u001b[43m    \u001b[49m\u001b[43mtensors\u001b[49m\u001b[43m,\u001b[49m\n\u001b[1;32m    269\u001b[0m \u001b[43m    \u001b[49m\u001b[43mgrad_tensors_\u001b[49m\u001b[43m,\u001b[49m\n\u001b[1;32m    270\u001b[0m \u001b[43m    \u001b[49m\u001b[43mretain_graph\u001b[49m\u001b[43m,\u001b[49m\n\u001b[1;32m    271\u001b[0m \u001b[43m    \u001b[49m\u001b[43mcreate_graph\u001b[49m\u001b[43m,\u001b[49m\n\u001b[1;32m    272\u001b[0m \u001b[43m    \u001b[49m\u001b[43minputs\u001b[49m\u001b[43m,\u001b[49m\n\u001b[1;32m    273\u001b[0m \u001b[43m    \u001b[49m\u001b[43mallow_unreachable\u001b[49m\u001b[38;5;241;43m=\u001b[39;49m\u001b[38;5;28;43;01mTrue\u001b[39;49;00m\u001b[43m,\u001b[49m\n\u001b[1;32m    274\u001b[0m \u001b[43m    \u001b[49m\u001b[43maccumulate_grad\u001b[49m\u001b[38;5;241;43m=\u001b[39;49m\u001b[38;5;28;43;01mTrue\u001b[39;49;00m\u001b[43m,\u001b[49m\n\u001b[1;32m    275\u001b[0m \u001b[43m\u001b[49m\u001b[43m)\u001b[49m\n",
      "File \u001b[0;32m~/.local/lib/python3.10/site-packages/torch/autograd/graph.py:744\u001b[0m, in \u001b[0;36m_engine_run_backward\u001b[0;34m(t_outputs, *args, **kwargs)\u001b[0m\n\u001b[1;32m    742\u001b[0m     unregister_hooks \u001b[38;5;241m=\u001b[39m _register_logging_hooks_on_whole_graph(t_outputs)\n\u001b[1;32m    743\u001b[0m \u001b[38;5;28;01mtry\u001b[39;00m:\n\u001b[0;32m--> 744\u001b[0m     \u001b[38;5;28;01mreturn\u001b[39;00m \u001b[43mVariable\u001b[49m\u001b[38;5;241;43m.\u001b[39;49m\u001b[43m_execution_engine\u001b[49m\u001b[38;5;241;43m.\u001b[39;49m\u001b[43mrun_backward\u001b[49m\u001b[43m(\u001b[49m\u001b[43m  \u001b[49m\u001b[38;5;66;43;03m# Calls into the C++ engine to run the backward pass\u001b[39;49;00m\n\u001b[1;32m    745\u001b[0m \u001b[43m        \u001b[49m\u001b[43mt_outputs\u001b[49m\u001b[43m,\u001b[49m\u001b[43m \u001b[49m\u001b[38;5;241;43m*\u001b[39;49m\u001b[43margs\u001b[49m\u001b[43m,\u001b[49m\u001b[43m \u001b[49m\u001b[38;5;241;43m*\u001b[39;49m\u001b[38;5;241;43m*\u001b[39;49m\u001b[43mkwargs\u001b[49m\n\u001b[1;32m    746\u001b[0m \u001b[43m    \u001b[49m\u001b[43m)\u001b[49m  \u001b[38;5;66;03m# Calls into the C++ engine to run the backward pass\u001b[39;00m\n\u001b[1;32m    747\u001b[0m \u001b[38;5;28;01mfinally\u001b[39;00m:\n\u001b[1;32m    748\u001b[0m     \u001b[38;5;28;01mif\u001b[39;00m attach_logging_hooks:\n",
      "File \u001b[0;32m~/.local/lib/python3.10/site-packages/torch/nn/modules/module.py:67\u001b[0m, in \u001b[0;36m_WrappedHook.__call__\u001b[0;34m(self, *args, **kwargs)\u001b[0m\n\u001b[1;32m     64\u001b[0m         \u001b[38;5;28mself\u001b[39m\u001b[38;5;241m.\u001b[39mmodule: weakref\u001b[38;5;241m.\u001b[39mReferenceType[Module] \u001b[38;5;241m=\u001b[39m weakref\u001b[38;5;241m.\u001b[39mref(module)\n\u001b[1;32m     65\u001b[0m         \u001b[38;5;28mself\u001b[39m\u001b[38;5;241m.\u001b[39mwith_module \u001b[38;5;241m=\u001b[39m \u001b[38;5;28;01mTrue\u001b[39;00m\n\u001b[0;32m---> 67\u001b[0m \u001b[38;5;28;01mdef\u001b[39;00m \u001b[38;5;21m__call__\u001b[39m(\u001b[38;5;28mself\u001b[39m, \u001b[38;5;241m*\u001b[39margs: Any, \u001b[38;5;241m*\u001b[39m\u001b[38;5;241m*\u001b[39mkwargs: Any) \u001b[38;5;241m-\u001b[39m\u001b[38;5;241m>\u001b[39m Any:\n\u001b[1;32m     68\u001b[0m     \u001b[38;5;28;01mif\u001b[39;00m \u001b[38;5;28mself\u001b[39m\u001b[38;5;241m.\u001b[39mwith_module:\n\u001b[1;32m     69\u001b[0m         module \u001b[38;5;241m=\u001b[39m \u001b[38;5;28mself\u001b[39m\u001b[38;5;241m.\u001b[39mmodule()\n",
      "\u001b[0;31mKeyboardInterrupt\u001b[0m: "
     ]
    },
    {
     "data": {
      "image/png": "[encoded data removed]",
      "text/plain": [
       "<Figure size 640x480 with 1 Axes>"
      ]
     },
     "metadata": {},
     "output_type": "display_data"
    }
   ],
   "source": [
    "from tqdm import tqdm\n",
    "\n",
    "fig, axs = plt.subplots()\n",
    "plt.yscale('log')\n",
    "\n",
    "chosen_coor = 0 # the coordinate for the logit to compute the NTK over\n",
    "\n",
    "# On each interation load the parameters from the relevant checkpoint, load a new\n",
    "# batch and compute the corresponding NTK\n",
    "for i in tqdm(range(num_runs)):\n",
    "    # Get a new batch\n",
    "    data, targets = next(iter(per_grad_train_loader))\n",
    "    \n",
    "    # Order the batch by class\n",
    "    data, targets, indices_ranges = ntk_utils.order_batch(data, targets, 10)\n",
    "    \n",
    "    # Compute the gradients for the relevant checkpoint\n",
    "    checkpoint_file = '{}/init{}.p'.format(checkpoint_dir, i)\n",
    "    fw = ntk_utils.f_nabla_w(checkpoint_file, input_data=data)\n",
    "    \n",
    "    # Select the gradients for the specific coordinate\n",
    "    fw_coor = fw[:,:,chosen_coor]\n",
    "    \n",
    "    # Compute the NTK for the chosen coordinate\n",
    "    coor_NTK = ntk_utils.NTK(fw, coor=chosen_coor)\n",
    "    print(coor_NTK.shape)\n",
    "    \n",
    "    # Compute eigenvalues for the NTK\n",
    "    eigs = np.linalg.eigvalsh(coor_NTK)\n",
    "    eigs_reversed_sorted = np.sort(eigs)[::-1]\n",
    "    max_eig = eigs_reversed_sorted[0]\n",
    "    \n",
    "    # Add the normalized spectrum to the plot\n",
    "    axs.plot(eigs_reversed_sorted[:batch_size//2])\n",
    "\n",
    "\n",
    "fig.set_size_inches(11.2, 8.3)\n",
    "fig.savefig('lenet5mnist.png')"
   ]
  }
 ],
 "metadata": {
  "kernelspec": {
   "display_name": "Python 3 (ipykernel)",
   "language": "python",
   "name": "python3"
  },
  "language_info": {
   "codemirror_mode": {
    "name": "ipython",
    "version": 3
   },
   "file_extension": ".py",
   "mimetype": "text/x-python",
   "name": "python",
   "nbconvert_exporter": "python",
   "pygments_lexer": "ipython3",
   "version": "3.10.12"
  }
 },
 "nbformat": 4,
 "nbformat_minor": 5
}
